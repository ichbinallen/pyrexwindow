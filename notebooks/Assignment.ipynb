{
 "cells": [
  {
   "cell_type": "code",
   "execution_count": 10,
   "id": "76b5f88a",
   "metadata": {},
   "outputs": [],
   "source": [
    "import sqlite3\n",
    "import pandas as pd"
   ]
  },
  {
   "cell_type": "markdown",
   "id": "f258061d",
   "metadata": {},
   "source": [
    "## Read CSVS"
   ]
  },
  {
   "cell_type": "code",
   "execution_count": 11,
   "id": "cc46d10b",
   "metadata": {},
   "outputs": [],
   "source": [
    "# Read in csv data\n",
    "slot_performance = pd.read_csv(\"../data/slot_performance.csv\")\n",
    "slot_performance.start_date = pd.to_datetime(slot_performance.start_date, format='%m/%d/%Y')\n",
    "slot_performance.end_date = pd.to_datetime(slot_performance.end_date, format='%m/%d/%Y')\n",
    "\n",
    "location = pd.read_csv(\"../data/location.csv\")"
   ]
  },
  {
   "cell_type": "code",
   "execution_count": 12,
   "id": "eacfec88",
   "metadata": {},
   "outputs": [
    {
     "data": {
      "text/html": [
       "<div>\n",
       "<style scoped>\n",
       "    .dataframe tbody tr th:only-of-type {\n",
       "        vertical-align: middle;\n",
       "    }\n",
       "\n",
       "    .dataframe tbody tr th {\n",
       "        vertical-align: top;\n",
       "    }\n",
       "\n",
       "    .dataframe thead th {\n",
       "        text-align: right;\n",
       "    }\n",
       "</style>\n",
       "<table border=\"1\" class=\"dataframe\">\n",
       "  <thead>\n",
       "    <tr style=\"text-align: right;\">\n",
       "      <th></th>\n",
       "      <th>employer_id</th>\n",
       "      <th>city_id</th>\n",
       "      <th>contract_id</th>\n",
       "      <th>start_date</th>\n",
       "      <th>end_date</th>\n",
       "      <th>renewed_flag</th>\n",
       "      <th>job_slots</th>\n",
       "      <th>total_contract_value</th>\n",
       "      <th>applications</th>\n",
       "      <th>apply_start_clicks</th>\n",
       "      <th>click_marketplace_value</th>\n",
       "      <th>job_listings</th>\n",
       "    </tr>\n",
       "  </thead>\n",
       "  <tbody>\n",
       "    <tr>\n",
       "      <th>0</th>\n",
       "      <td>4277920</td>\n",
       "      <td>9767</td>\n",
       "      <td>2423796</td>\n",
       "      <td>2017-10-30</td>\n",
       "      <td>2017-11-30</td>\n",
       "      <td>1</td>\n",
       "      <td>15</td>\n",
       "      <td>995</td>\n",
       "      <td>215</td>\n",
       "      <td>255</td>\n",
       "      <td>15484.40</td>\n",
       "      <td>25</td>\n",
       "    </tr>\n",
       "    <tr>\n",
       "      <th>1</th>\n",
       "      <td>2372987</td>\n",
       "      <td>8585</td>\n",
       "      <td>2074128</td>\n",
       "      <td>2017-06-29</td>\n",
       "      <td>2017-07-29</td>\n",
       "      <td>0</td>\n",
       "      <td>50</td>\n",
       "      <td>1495</td>\n",
       "      <td>55</td>\n",
       "      <td>70</td>\n",
       "      <td>1719.30</td>\n",
       "      <td>50</td>\n",
       "    </tr>\n",
       "    <tr>\n",
       "      <th>2</th>\n",
       "      <td>1142693</td>\n",
       "      <td>6665</td>\n",
       "      <td>1924740</td>\n",
       "      <td>2017-05-02</td>\n",
       "      <td>2017-06-02</td>\n",
       "      <td>0</td>\n",
       "      <td>15</td>\n",
       "      <td>495</td>\n",
       "      <td>45</td>\n",
       "      <td>95</td>\n",
       "      <td>1195.75</td>\n",
       "      <td>20</td>\n",
       "    </tr>\n",
       "  </tbody>\n",
       "</table>\n",
       "</div>"
      ],
      "text/plain": [
       "   employer_id  city_id  contract_id start_date   end_date  renewed_flag  \\\n",
       "0      4277920     9767      2423796 2017-10-30 2017-11-30             1   \n",
       "1      2372987     8585      2074128 2017-06-29 2017-07-29             0   \n",
       "2      1142693     6665      1924740 2017-05-02 2017-06-02             0   \n",
       "\n",
       "   job_slots  total_contract_value  applications  apply_start_clicks  \\\n",
       "0         15                   995           215                 255   \n",
       "1         50                  1495            55                  70   \n",
       "2         15                   495            45                  95   \n",
       "\n",
       "   click_marketplace_value  job_listings  \n",
       "0                 15484.40            25  \n",
       "1                  1719.30            50  \n",
       "2                  1195.75            20  "
      ]
     },
     "execution_count": 12,
     "metadata": {},
     "output_type": "execute_result"
    }
   ],
   "source": [
    "slot_performance.head(3)"
   ]
  },
  {
   "cell_type": "code",
   "execution_count": 13,
   "id": "a7566a45",
   "metadata": {},
   "outputs": [
    {
     "data": {
      "text/html": [
       "<div>\n",
       "<style scoped>\n",
       "    .dataframe tbody tr th:only-of-type {\n",
       "        vertical-align: middle;\n",
       "    }\n",
       "\n",
       "    .dataframe tbody tr th {\n",
       "        vertical-align: top;\n",
       "    }\n",
       "\n",
       "    .dataframe thead th {\n",
       "        text-align: right;\n",
       "    }\n",
       "</style>\n",
       "<table border=\"1\" class=\"dataframe\">\n",
       "  <thead>\n",
       "    <tr style=\"text-align: right;\">\n",
       "      <th></th>\n",
       "      <th>city_id</th>\n",
       "      <th>city_name</th>\n",
       "      <th>state_id</th>\n",
       "      <th>state_name</th>\n",
       "    </tr>\n",
       "  </thead>\n",
       "  <tbody>\n",
       "    <tr>\n",
       "      <th>0</th>\n",
       "      <td>1</td>\n",
       "      <td>Rockford</td>\n",
       "      <td>OH</td>\n",
       "      <td>Ohio</td>\n",
       "    </tr>\n",
       "    <tr>\n",
       "      <th>1</th>\n",
       "      <td>2</td>\n",
       "      <td>Sedgewickville</td>\n",
       "      <td>MO</td>\n",
       "      <td>Missouri</td>\n",
       "    </tr>\n",
       "    <tr>\n",
       "      <th>2</th>\n",
       "      <td>3</td>\n",
       "      <td>Whitehouse</td>\n",
       "      <td>OH</td>\n",
       "      <td>Ohio</td>\n",
       "    </tr>\n",
       "  </tbody>\n",
       "</table>\n",
       "</div>"
      ],
      "text/plain": [
       "   city_id       city_name state_id state_name\n",
       "0        1        Rockford       OH       Ohio\n",
       "1        2  Sedgewickville       MO   Missouri\n",
       "2        3      Whitehouse       OH       Ohio"
      ]
     },
     "execution_count": 13,
     "metadata": {},
     "output_type": "execute_result"
    }
   ],
   "source": [
    "location.head(3)"
   ]
  },
  {
   "cell_type": "markdown",
   "id": "a30766b3",
   "metadata": {},
   "source": [
    "## SQLite DB"
   ]
  },
  {
   "cell_type": "code",
   "execution_count": 14,
   "id": "03e50711",
   "metadata": {},
   "outputs": [],
   "source": [
    "con = sqlite3.connect('../data/glassdoor.db')"
   ]
  },
  {
   "cell_type": "code",
   "execution_count": 15,
   "id": "1d9c056c",
   "metadata": {},
   "outputs": [],
   "source": [
    "slot_performance.to_sql('slot_performance', con, if_exists='replace', index=False)\n",
    "location.to_sql('location', con, if_exists='replace', index=False)"
   ]
  },
  {
   "cell_type": "code",
   "execution_count": 16,
   "id": "183ecb0c",
   "metadata": {},
   "outputs": [
    {
     "data": {
      "text/html": [
       "<div>\n",
       "<style scoped>\n",
       "    .dataframe tbody tr th:only-of-type {\n",
       "        vertical-align: middle;\n",
       "    }\n",
       "\n",
       "    .dataframe tbody tr th {\n",
       "        vertical-align: top;\n",
       "    }\n",
       "\n",
       "    .dataframe thead th {\n",
       "        text-align: right;\n",
       "    }\n",
       "</style>\n",
       "<table border=\"1\" class=\"dataframe\">\n",
       "  <thead>\n",
       "    <tr style=\"text-align: right;\">\n",
       "      <th></th>\n",
       "      <th>city_id</th>\n",
       "      <th>city_name</th>\n",
       "      <th>state_id</th>\n",
       "      <th>state_name</th>\n",
       "    </tr>\n",
       "  </thead>\n",
       "  <tbody>\n",
       "    <tr>\n",
       "      <th>0</th>\n",
       "      <td>1</td>\n",
       "      <td>Rockford</td>\n",
       "      <td>OH</td>\n",
       "      <td>Ohio</td>\n",
       "    </tr>\n",
       "    <tr>\n",
       "      <th>1</th>\n",
       "      <td>2</td>\n",
       "      <td>Sedgewickville</td>\n",
       "      <td>MO</td>\n",
       "      <td>Missouri</td>\n",
       "    </tr>\n",
       "    <tr>\n",
       "      <th>2</th>\n",
       "      <td>3</td>\n",
       "      <td>Whitehouse</td>\n",
       "      <td>OH</td>\n",
       "      <td>Ohio</td>\n",
       "    </tr>\n",
       "  </tbody>\n",
       "</table>\n",
       "</div>"
      ],
      "text/plain": [
       "   city_id       city_name state_id state_name\n",
       "0        1        Rockford       OH       Ohio\n",
       "1        2  Sedgewickville       MO   Missouri\n",
       "2        3      Whitehouse       OH       Ohio"
      ]
     },
     "execution_count": 16,
     "metadata": {},
     "output_type": "execute_result"
    }
   ],
   "source": [
    "# Test location write\n",
    "locs = pd.read_sql('SELECT * FROM location LIMIT 3', con)\n",
    "locs.head()"
   ]
  },
  {
   "cell_type": "code",
   "execution_count": 17,
   "id": "affb7f87",
   "metadata": {},
   "outputs": [
    {
     "data": {
      "text/html": [
       "<div>\n",
       "<style scoped>\n",
       "    .dataframe tbody tr th:only-of-type {\n",
       "        vertical-align: middle;\n",
       "    }\n",
       "\n",
       "    .dataframe tbody tr th {\n",
       "        vertical-align: top;\n",
       "    }\n",
       "\n",
       "    .dataframe thead th {\n",
       "        text-align: right;\n",
       "    }\n",
       "</style>\n",
       "<table border=\"1\" class=\"dataframe\">\n",
       "  <thead>\n",
       "    <tr style=\"text-align: right;\">\n",
       "      <th></th>\n",
       "      <th>employer_id</th>\n",
       "      <th>city_id</th>\n",
       "      <th>contract_id</th>\n",
       "      <th>start_date</th>\n",
       "      <th>end_date</th>\n",
       "      <th>renewed_flag</th>\n",
       "      <th>job_slots</th>\n",
       "      <th>total_contract_value</th>\n",
       "      <th>applications</th>\n",
       "      <th>apply_start_clicks</th>\n",
       "      <th>click_marketplace_value</th>\n",
       "      <th>job_listings</th>\n",
       "    </tr>\n",
       "  </thead>\n",
       "  <tbody>\n",
       "    <tr>\n",
       "      <th>0</th>\n",
       "      <td>4277920</td>\n",
       "      <td>9767</td>\n",
       "      <td>2423796</td>\n",
       "      <td>2017-10-30 00:00:00</td>\n",
       "      <td>2017-11-30 00:00:00</td>\n",
       "      <td>1</td>\n",
       "      <td>15</td>\n",
       "      <td>995</td>\n",
       "      <td>215</td>\n",
       "      <td>255</td>\n",
       "      <td>15484.40</td>\n",
       "      <td>25</td>\n",
       "    </tr>\n",
       "    <tr>\n",
       "      <th>1</th>\n",
       "      <td>2372987</td>\n",
       "      <td>8585</td>\n",
       "      <td>2074128</td>\n",
       "      <td>2017-06-29 00:00:00</td>\n",
       "      <td>2017-07-29 00:00:00</td>\n",
       "      <td>0</td>\n",
       "      <td>50</td>\n",
       "      <td>1495</td>\n",
       "      <td>55</td>\n",
       "      <td>70</td>\n",
       "      <td>1719.30</td>\n",
       "      <td>50</td>\n",
       "    </tr>\n",
       "    <tr>\n",
       "      <th>2</th>\n",
       "      <td>1142693</td>\n",
       "      <td>6665</td>\n",
       "      <td>1924740</td>\n",
       "      <td>2017-05-02 00:00:00</td>\n",
       "      <td>2017-06-02 00:00:00</td>\n",
       "      <td>0</td>\n",
       "      <td>15</td>\n",
       "      <td>495</td>\n",
       "      <td>45</td>\n",
       "      <td>95</td>\n",
       "      <td>1195.75</td>\n",
       "      <td>20</td>\n",
       "    </tr>\n",
       "  </tbody>\n",
       "</table>\n",
       "</div>"
      ],
      "text/plain": [
       "   employer_id  city_id  contract_id           start_date  \\\n",
       "0      4277920     9767      2423796  2017-10-30 00:00:00   \n",
       "1      2372987     8585      2074128  2017-06-29 00:00:00   \n",
       "2      1142693     6665      1924740  2017-05-02 00:00:00   \n",
       "\n",
       "              end_date  renewed_flag  job_slots  total_contract_value  \\\n",
       "0  2017-11-30 00:00:00             1         15                   995   \n",
       "1  2017-07-29 00:00:00             0         50                  1495   \n",
       "2  2017-06-02 00:00:00             0         15                   495   \n",
       "\n",
       "   applications  apply_start_clicks  click_marketplace_value  job_listings  \n",
       "0           215                 255                 15484.40            25  \n",
       "1            55                  70                  1719.30            50  \n",
       "2            45                  95                  1195.75            20  "
      ]
     },
     "execution_count": 17,
     "metadata": {},
     "output_type": "execute_result"
    }
   ],
   "source": [
    "# Test slot performance write\n",
    "sp = pd.read_sql('SELECT * FROM slot_performance LIMIT 3', con)\n",
    "sp.head()"
   ]
  },
  {
   "cell_type": "code",
   "execution_count": 18,
   "id": "20054571",
   "metadata": {},
   "outputs": [],
   "source": [
    "del locs\n",
    "del sp"
   ]
  },
  {
   "cell_type": "markdown",
   "id": "094fc31e",
   "metadata": {},
   "source": [
    "## PART A: Write SQL queries to answer the following questions"
   ]
  },
  {
   "cell_type": "markdown",
   "id": "c53b307b",
   "metadata": {},
   "source": [
    "Total Contract Value is defined as the total amount that customers committed to spend. Write a SQL query that returns the Total Contract Value ('total_contract_value' field) for each state (name) by month (using 'start_date') in the provided datasets."
   ]
  },
  {
   "cell_type": "code",
   "execution_count": 19,
   "id": "d98f959f",
   "metadata": {},
   "outputs": [
    {
     "data": {
      "text/html": [
       "<div>\n",
       "<style scoped>\n",
       "    .dataframe tbody tr th:only-of-type {\n",
       "        vertical-align: middle;\n",
       "    }\n",
       "\n",
       "    .dataframe tbody tr th {\n",
       "        vertical-align: top;\n",
       "    }\n",
       "\n",
       "    .dataframe thead th {\n",
       "        text-align: right;\n",
       "    }\n",
       "</style>\n",
       "<table border=\"1\" class=\"dataframe\">\n",
       "  <thead>\n",
       "    <tr style=\"text-align: right;\">\n",
       "      <th></th>\n",
       "      <th>city_name</th>\n",
       "      <th>year_month</th>\n",
       "      <th>total_contract_value</th>\n",
       "    </tr>\n",
       "  </thead>\n",
       "  <tbody>\n",
       "    <tr>\n",
       "      <th>0</th>\n",
       "      <td>Abbott</td>\n",
       "      <td>2016-08</td>\n",
       "      <td>495</td>\n",
       "    </tr>\n",
       "    <tr>\n",
       "      <th>1</th>\n",
       "      <td>Abbott</td>\n",
       "      <td>2017-03</td>\n",
       "      <td>1245</td>\n",
       "    </tr>\n",
       "    <tr>\n",
       "      <th>2</th>\n",
       "      <td>Abbott</td>\n",
       "      <td>2017-07</td>\n",
       "      <td>1495</td>\n",
       "    </tr>\n",
       "    <tr>\n",
       "      <th>3</th>\n",
       "      <td>Aberdeen</td>\n",
       "      <td>2016-07</td>\n",
       "      <td>495</td>\n",
       "    </tr>\n",
       "    <tr>\n",
       "      <th>4</th>\n",
       "      <td>Aberdeen</td>\n",
       "      <td>2016-10</td>\n",
       "      <td>1495</td>\n",
       "    </tr>\n",
       "    <tr>\n",
       "      <th>...</th>\n",
       "      <td>...</td>\n",
       "      <td>...</td>\n",
       "      <td>...</td>\n",
       "    </tr>\n",
       "    <tr>\n",
       "      <th>33641</th>\n",
       "      <td>Zuehl</td>\n",
       "      <td>2017-12</td>\n",
       "      <td>995</td>\n",
       "    </tr>\n",
       "    <tr>\n",
       "      <th>33642</th>\n",
       "      <td>Zwingle</td>\n",
       "      <td>2016-06</td>\n",
       "      <td>1245</td>\n",
       "    </tr>\n",
       "    <tr>\n",
       "      <th>33643</th>\n",
       "      <td>Zwingle</td>\n",
       "      <td>2017-03</td>\n",
       "      <td>1245</td>\n",
       "    </tr>\n",
       "    <tr>\n",
       "      <th>33644</th>\n",
       "      <td>Zwingle</td>\n",
       "      <td>2017-06</td>\n",
       "      <td>1745</td>\n",
       "    </tr>\n",
       "    <tr>\n",
       "      <th>33645</th>\n",
       "      <td>Zwingle</td>\n",
       "      <td>2018-02</td>\n",
       "      <td>995</td>\n",
       "    </tr>\n",
       "  </tbody>\n",
       "</table>\n",
       "<p>33646 rows × 3 columns</p>\n",
       "</div>"
      ],
      "text/plain": [
       "      city_name year_month  total_contract_value\n",
       "0        Abbott    2016-08                   495\n",
       "1        Abbott    2017-03                  1245\n",
       "2        Abbott    2017-07                  1495\n",
       "3      Aberdeen    2016-07                   495\n",
       "4      Aberdeen    2016-10                  1495\n",
       "...         ...        ...                   ...\n",
       "33641     Zuehl    2017-12                   995\n",
       "33642   Zwingle    2016-06                  1245\n",
       "33643   Zwingle    2017-03                  1245\n",
       "33644   Zwingle    2017-06                  1745\n",
       "33645   Zwingle    2018-02                   995\n",
       "\n",
       "[33646 rows x 3 columns]"
      ]
     },
     "execution_count": 19,
     "metadata": {},
     "output_type": "execute_result"
    }
   ],
   "source": [
    "q = '''\n",
    "SELECT\n",
    "    l.city_name,\n",
    "    strftime('%Y-%m', p.start_date) AS year_month,\n",
    "    SUM(p.total_contract_value) AS total_contract_value\n",
    "FROM\n",
    "    slot_performance AS p\n",
    "JOIN\n",
    "    location AS l\n",
    "ON\n",
    "    l.city_id = p.city_id\n",
    "GROUP BY\n",
    "    city_name,\n",
    "    year_month\n",
    "'''\n",
    "cv = pd.read_sql(q, con)\n",
    "cv"
   ]
  },
  {
   "cell_type": "markdown",
   "id": "a0cf7d54",
   "metadata": {},
   "source": [
    "For all employers who purchased >1 product with Glassdoor, write a SQL query to return the 'job_slots' and 'click_marketplace_value' values for the second transaction by employer."
   ]
  },
  {
   "cell_type": "code",
   "execution_count": 24,
   "id": "124a3311",
   "metadata": {},
   "outputs": [
    {
     "ename": "DatabaseError",
     "evalue": "Execution failed on sql '\nSELECT\n    employer_id,\n    start_date,\n    ROW_NUMBER() OVER (\n        PARTITION BY employer_id,\n        ORDER BY start_date\n    )\n': near \"(\": syntax error",
     "output_type": "error",
     "traceback": [
      "\u001b[0;31m---------------------------------------------------------------------------\u001b[0m",
      "\u001b[0;31mOperationalError\u001b[0m                          Traceback (most recent call last)",
      "\u001b[0;32m~/.local/lib/python3.6/site-packages/pandas/io/sql.py\u001b[0m in \u001b[0;36mexecute\u001b[0;34m(self, *args, **kwargs)\u001b[0m\n\u001b[1;32m   1680\u001b[0m         \u001b[0;32mtry\u001b[0m\u001b[0;34m:\u001b[0m\u001b[0;34m\u001b[0m\u001b[0;34m\u001b[0m\u001b[0m\n\u001b[0;32m-> 1681\u001b[0;31m             \u001b[0mcur\u001b[0m\u001b[0;34m.\u001b[0m\u001b[0mexecute\u001b[0m\u001b[0;34m(\u001b[0m\u001b[0;34m*\u001b[0m\u001b[0margs\u001b[0m\u001b[0;34m,\u001b[0m \u001b[0;34m**\u001b[0m\u001b[0mkwargs\u001b[0m\u001b[0;34m)\u001b[0m\u001b[0;34m\u001b[0m\u001b[0;34m\u001b[0m\u001b[0m\n\u001b[0m\u001b[1;32m   1682\u001b[0m             \u001b[0;32mreturn\u001b[0m \u001b[0mcur\u001b[0m\u001b[0;34m\u001b[0m\u001b[0;34m\u001b[0m\u001b[0m\n",
      "\u001b[0;31mOperationalError\u001b[0m: near \"(\": syntax error",
      "\nThe above exception was the direct cause of the following exception:\n",
      "\u001b[0;31mDatabaseError\u001b[0m                             Traceback (most recent call last)",
      "\u001b[0;32m<ipython-input-24-4ccaf72caa60>\u001b[0m in \u001b[0;36m<module>\u001b[0;34m\u001b[0m\n\u001b[1;32m     18\u001b[0m     )\n\u001b[1;32m     19\u001b[0m '''\n\u001b[0;32m---> 20\u001b[0;31m \u001b[0mff\u001b[0m \u001b[0;34m=\u001b[0m \u001b[0mpd\u001b[0m\u001b[0;34m.\u001b[0m\u001b[0mread_sql\u001b[0m\u001b[0;34m(\u001b[0m\u001b[0mq\u001b[0m\u001b[0;34m,\u001b[0m \u001b[0mcon\u001b[0m\u001b[0;34m)\u001b[0m\u001b[0;34m\u001b[0m\u001b[0;34m\u001b[0m\u001b[0m\n\u001b[0m\u001b[1;32m     21\u001b[0m \u001b[0mff\u001b[0m\u001b[0;34m\u001b[0m\u001b[0;34m\u001b[0m\u001b[0m\n",
      "\u001b[0;32m~/.local/lib/python3.6/site-packages/pandas/io/sql.py\u001b[0m in \u001b[0;36mread_sql\u001b[0;34m(sql, con, index_col, coerce_float, params, parse_dates, columns, chunksize)\u001b[0m\n\u001b[1;32m    487\u001b[0m             \u001b[0mcoerce_float\u001b[0m\u001b[0;34m=\u001b[0m\u001b[0mcoerce_float\u001b[0m\u001b[0;34m,\u001b[0m\u001b[0;34m\u001b[0m\u001b[0;34m\u001b[0m\u001b[0m\n\u001b[1;32m    488\u001b[0m             \u001b[0mparse_dates\u001b[0m\u001b[0;34m=\u001b[0m\u001b[0mparse_dates\u001b[0m\u001b[0;34m,\u001b[0m\u001b[0;34m\u001b[0m\u001b[0;34m\u001b[0m\u001b[0m\n\u001b[0;32m--> 489\u001b[0;31m             \u001b[0mchunksize\u001b[0m\u001b[0;34m=\u001b[0m\u001b[0mchunksize\u001b[0m\u001b[0;34m,\u001b[0m\u001b[0;34m\u001b[0m\u001b[0;34m\u001b[0m\u001b[0m\n\u001b[0m\u001b[1;32m    490\u001b[0m         )\n\u001b[1;32m    491\u001b[0m \u001b[0;34m\u001b[0m\u001b[0m\n",
      "\u001b[0;32m~/.local/lib/python3.6/site-packages/pandas/io/sql.py\u001b[0m in \u001b[0;36mread_query\u001b[0;34m(self, sql, index_col, coerce_float, params, parse_dates, chunksize)\u001b[0m\n\u001b[1;32m   1725\u001b[0m \u001b[0;34m\u001b[0m\u001b[0m\n\u001b[1;32m   1726\u001b[0m         \u001b[0margs\u001b[0m \u001b[0;34m=\u001b[0m \u001b[0m_convert_params\u001b[0m\u001b[0;34m(\u001b[0m\u001b[0msql\u001b[0m\u001b[0;34m,\u001b[0m \u001b[0mparams\u001b[0m\u001b[0;34m)\u001b[0m\u001b[0;34m\u001b[0m\u001b[0;34m\u001b[0m\u001b[0m\n\u001b[0;32m-> 1727\u001b[0;31m         \u001b[0mcursor\u001b[0m \u001b[0;34m=\u001b[0m \u001b[0mself\u001b[0m\u001b[0;34m.\u001b[0m\u001b[0mexecute\u001b[0m\u001b[0;34m(\u001b[0m\u001b[0;34m*\u001b[0m\u001b[0margs\u001b[0m\u001b[0;34m)\u001b[0m\u001b[0;34m\u001b[0m\u001b[0;34m\u001b[0m\u001b[0m\n\u001b[0m\u001b[1;32m   1728\u001b[0m         \u001b[0mcolumns\u001b[0m \u001b[0;34m=\u001b[0m \u001b[0;34m[\u001b[0m\u001b[0mcol_desc\u001b[0m\u001b[0;34m[\u001b[0m\u001b[0;36m0\u001b[0m\u001b[0;34m]\u001b[0m \u001b[0;32mfor\u001b[0m \u001b[0mcol_desc\u001b[0m \u001b[0;32min\u001b[0m \u001b[0mcursor\u001b[0m\u001b[0;34m.\u001b[0m\u001b[0mdescription\u001b[0m\u001b[0;34m]\u001b[0m\u001b[0;34m\u001b[0m\u001b[0;34m\u001b[0m\u001b[0m\n\u001b[1;32m   1729\u001b[0m \u001b[0;34m\u001b[0m\u001b[0m\n",
      "\u001b[0;32m~/.local/lib/python3.6/site-packages/pandas/io/sql.py\u001b[0m in \u001b[0;36mexecute\u001b[0;34m(self, *args, **kwargs)\u001b[0m\n\u001b[1;32m   1691\u001b[0m \u001b[0;34m\u001b[0m\u001b[0m\n\u001b[1;32m   1692\u001b[0m             \u001b[0mex\u001b[0m \u001b[0;34m=\u001b[0m \u001b[0mDatabaseError\u001b[0m\u001b[0;34m(\u001b[0m\u001b[0;34mf\"Execution failed on sql '{args[0]}': {exc}\"\u001b[0m\u001b[0;34m)\u001b[0m\u001b[0;34m\u001b[0m\u001b[0;34m\u001b[0m\u001b[0m\n\u001b[0;32m-> 1693\u001b[0;31m             \u001b[0;32mraise\u001b[0m \u001b[0mex\u001b[0m \u001b[0;32mfrom\u001b[0m \u001b[0mexc\u001b[0m\u001b[0;34m\u001b[0m\u001b[0;34m\u001b[0m\u001b[0m\n\u001b[0m\u001b[1;32m   1694\u001b[0m \u001b[0;34m\u001b[0m\u001b[0m\n\u001b[1;32m   1695\u001b[0m     \u001b[0;34m@\u001b[0m\u001b[0mstaticmethod\u001b[0m\u001b[0;34m\u001b[0m\u001b[0;34m\u001b[0m\u001b[0m\n",
      "\u001b[0;31mDatabaseError\u001b[0m: Execution failed on sql '\nSELECT\n    employer_id,\n    start_date,\n    ROW_NUMBER() OVER (\n        PARTITION BY employer_id,\n        ORDER BY start_date\n    )\n': near \"(\": syntax error"
     ]
    }
   ],
   "source": [
    "q = '''\n",
    "WITH FOO as (\n",
    "    SELECT\n",
    "        employer_id,\n",
    "        start_date\n",
    "    FROM\n",
    "        slot_performance\n",
    ")\n",
    "SELECT * FROM FOO\n",
    "'''\n",
    "q = '''\n",
    "SELECT\n",
    "    employer_id,\n",
    "    start_date,\n",
    "    ROW_NUMBER() OVER (\n",
    "        PARTITION BY employer_id,\n",
    "        ORDER BY start_date\n",
    "    )\n",
    "'''\n",
    "ff = pd.read_sql(q, con)\n",
    "ff"
   ]
  },
  {
   "cell_type": "code",
   "execution_count": 23,
   "id": "783bdc04",
   "metadata": {},
   "outputs": [
    {
     "data": {
      "text/plain": [
       "'3.22.0'"
      ]
     },
     "execution_count": 23,
     "metadata": {},
     "output_type": "execute_result"
    }
   ],
   "source": [
    "sqlite3.sqlite_version"
   ]
  },
  {
   "cell_type": "code",
   "execution_count": 23,
   "id": "b81a50a1",
   "metadata": {},
   "outputs": [
    {
     "data": {
      "text/plain": [
       "'3.22.0'"
      ]
     },
     "execution_count": 23,
     "metadata": {},
     "output_type": "execute_result"
    }
   ],
   "source": [
    "sqlite3.sqlite_version"
   ]
  },
  {
   "cell_type": "markdown",
   "id": "9bb8405d",
   "metadata": {},
   "source": [
    "## Close Connection"
   ]
  },
  {
   "cell_type": "code",
   "execution_count": null,
   "id": "d13e10da",
   "metadata": {},
   "outputs": [],
   "source": [
    "con.close()"
   ]
  },
  {
   "cell_type": "code",
   "execution_count": null,
   "id": "66bf63b2",
   "metadata": {},
   "outputs": [],
   "source": []
  }
 ],
 "metadata": {
  "kernelspec": {
   "display_name": "Python 3",
   "language": "python",
   "name": "python3"
  },
  "language_info": {
   "codemirror_mode": {
    "name": "ipython",
    "version": 3
   },
   "file_extension": ".py",
   "mimetype": "text/x-python",
   "name": "python",
   "nbconvert_exporter": "python",
   "pygments_lexer": "ipython3",
   "version": "3.6.9"
  }
 },
 "nbformat": 4,
 "nbformat_minor": 5
}
