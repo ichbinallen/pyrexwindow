{
 "cells": [
  {
   "cell_type": "code",
   "execution_count": 62,
   "metadata": {},
   "outputs": [],
   "source": [
    "import sqlite3\n",
    "import pandas as pd\n",
    "import matplotlib.pyplot as plt\n",
    "plt.rcParams['figure.figsize'] = [12, 8]\n",
    "figsize = (12, 8)"
   ]
  },
  {
   "cell_type": "code",
   "execution_count": 44,
   "metadata": {},
   "outputs": [],
   "source": [
    "%matplotlib inline"
   ]
  },
  {
   "cell_type": "markdown",
   "metadata": {},
   "source": [
    "## Read CSVS"
   ]
  },
  {
   "cell_type": "code",
   "execution_count": 45,
   "metadata": {},
   "outputs": [],
   "source": [
    "# Read in csv data\n",
    "slot_performance = pd.read_csv(\"../data/slot_performance.csv\")\n",
    "slot_performance.start_date = pd.to_datetime(slot_performance.start_date, format='%m/%d/%Y')\n",
    "slot_performance.end_date = pd.to_datetime(slot_performance.end_date, format='%m/%d/%Y')\n",
    "\n",
    "location = pd.read_csv(\"../data/location.csv\")"
   ]
  },
  {
   "cell_type": "code",
   "execution_count": 46,
   "metadata": {},
   "outputs": [
    {
     "data": {
      "text/html": [
       "<div>\n",
       "<style scoped>\n",
       "    .dataframe tbody tr th:only-of-type {\n",
       "        vertical-align: middle;\n",
       "    }\n",
       "\n",
       "    .dataframe tbody tr th {\n",
       "        vertical-align: top;\n",
       "    }\n",
       "\n",
       "    .dataframe thead th {\n",
       "        text-align: right;\n",
       "    }\n",
       "</style>\n",
       "<table border=\"1\" class=\"dataframe\">\n",
       "  <thead>\n",
       "    <tr style=\"text-align: right;\">\n",
       "      <th></th>\n",
       "      <th>employer_id</th>\n",
       "      <th>city_id</th>\n",
       "      <th>contract_id</th>\n",
       "      <th>start_date</th>\n",
       "      <th>end_date</th>\n",
       "      <th>renewed_flag</th>\n",
       "      <th>job_slots</th>\n",
       "      <th>total_contract_value</th>\n",
       "      <th>applications</th>\n",
       "      <th>apply_start_clicks</th>\n",
       "      <th>click_marketplace_value</th>\n",
       "      <th>job_listings</th>\n",
       "    </tr>\n",
       "  </thead>\n",
       "  <tbody>\n",
       "    <tr>\n",
       "      <td>0</td>\n",
       "      <td>4277920</td>\n",
       "      <td>9767</td>\n",
       "      <td>2423796</td>\n",
       "      <td>2017-10-30</td>\n",
       "      <td>2017-11-30</td>\n",
       "      <td>1</td>\n",
       "      <td>15</td>\n",
       "      <td>995</td>\n",
       "      <td>215</td>\n",
       "      <td>255</td>\n",
       "      <td>15484.40</td>\n",
       "      <td>25</td>\n",
       "    </tr>\n",
       "    <tr>\n",
       "      <td>1</td>\n",
       "      <td>2372987</td>\n",
       "      <td>8585</td>\n",
       "      <td>2074128</td>\n",
       "      <td>2017-06-29</td>\n",
       "      <td>2017-07-29</td>\n",
       "      <td>0</td>\n",
       "      <td>50</td>\n",
       "      <td>1495</td>\n",
       "      <td>55</td>\n",
       "      <td>70</td>\n",
       "      <td>1719.30</td>\n",
       "      <td>50</td>\n",
       "    </tr>\n",
       "    <tr>\n",
       "      <td>2</td>\n",
       "      <td>1142693</td>\n",
       "      <td>6665</td>\n",
       "      <td>1924740</td>\n",
       "      <td>2017-05-02</td>\n",
       "      <td>2017-06-02</td>\n",
       "      <td>0</td>\n",
       "      <td>15</td>\n",
       "      <td>495</td>\n",
       "      <td>45</td>\n",
       "      <td>95</td>\n",
       "      <td>1195.75</td>\n",
       "      <td>20</td>\n",
       "    </tr>\n",
       "  </tbody>\n",
       "</table>\n",
       "</div>"
      ],
      "text/plain": [
       "   employer_id  city_id  contract_id start_date   end_date  renewed_flag  \\\n",
       "0      4277920     9767      2423796 2017-10-30 2017-11-30             1   \n",
       "1      2372987     8585      2074128 2017-06-29 2017-07-29             0   \n",
       "2      1142693     6665      1924740 2017-05-02 2017-06-02             0   \n",
       "\n",
       "   job_slots  total_contract_value  applications  apply_start_clicks  \\\n",
       "0         15                   995           215                 255   \n",
       "1         50                  1495            55                  70   \n",
       "2         15                   495            45                  95   \n",
       "\n",
       "   click_marketplace_value  job_listings  \n",
       "0                 15484.40            25  \n",
       "1                  1719.30            50  \n",
       "2                  1195.75            20  "
      ]
     },
     "execution_count": 46,
     "metadata": {},
     "output_type": "execute_result"
    }
   ],
   "source": [
    "slot_performance.head(3)"
   ]
  },
  {
   "cell_type": "code",
   "execution_count": 47,
   "metadata": {},
   "outputs": [
    {
     "data": {
      "text/html": [
       "<div>\n",
       "<style scoped>\n",
       "    .dataframe tbody tr th:only-of-type {\n",
       "        vertical-align: middle;\n",
       "    }\n",
       "\n",
       "    .dataframe tbody tr th {\n",
       "        vertical-align: top;\n",
       "    }\n",
       "\n",
       "    .dataframe thead th {\n",
       "        text-align: right;\n",
       "    }\n",
       "</style>\n",
       "<table border=\"1\" class=\"dataframe\">\n",
       "  <thead>\n",
       "    <tr style=\"text-align: right;\">\n",
       "      <th></th>\n",
       "      <th>city_id</th>\n",
       "      <th>city_name</th>\n",
       "      <th>state_id</th>\n",
       "      <th>state_name</th>\n",
       "    </tr>\n",
       "  </thead>\n",
       "  <tbody>\n",
       "    <tr>\n",
       "      <td>0</td>\n",
       "      <td>1</td>\n",
       "      <td>Rockford</td>\n",
       "      <td>OH</td>\n",
       "      <td>Ohio</td>\n",
       "    </tr>\n",
       "    <tr>\n",
       "      <td>1</td>\n",
       "      <td>2</td>\n",
       "      <td>Sedgewickville</td>\n",
       "      <td>MO</td>\n",
       "      <td>Missouri</td>\n",
       "    </tr>\n",
       "    <tr>\n",
       "      <td>2</td>\n",
       "      <td>3</td>\n",
       "      <td>Whitehouse</td>\n",
       "      <td>OH</td>\n",
       "      <td>Ohio</td>\n",
       "    </tr>\n",
       "  </tbody>\n",
       "</table>\n",
       "</div>"
      ],
      "text/plain": [
       "   city_id       city_name state_id state_name\n",
       "0        1        Rockford       OH       Ohio\n",
       "1        2  Sedgewickville       MO   Missouri\n",
       "2        3      Whitehouse       OH       Ohio"
      ]
     },
     "execution_count": 47,
     "metadata": {},
     "output_type": "execute_result"
    }
   ],
   "source": [
    "location.head(3)"
   ]
  },
  {
   "cell_type": "markdown",
   "metadata": {},
   "source": [
    "## SQLite DB"
   ]
  },
  {
   "cell_type": "code",
   "execution_count": 48,
   "metadata": {},
   "outputs": [],
   "source": [
    "con = sqlite3.connect('../data/glassdoor.db')"
   ]
  },
  {
   "cell_type": "code",
   "execution_count": 49,
   "metadata": {},
   "outputs": [],
   "source": [
    "slot_performance.to_sql('slot_performance', con, if_exists='replace', index=False)\n",
    "location.to_sql('location', con, if_exists='replace', index=False)"
   ]
  },
  {
   "cell_type": "code",
   "execution_count": 50,
   "metadata": {},
   "outputs": [
    {
     "data": {
      "text/html": [
       "<div>\n",
       "<style scoped>\n",
       "    .dataframe tbody tr th:only-of-type {\n",
       "        vertical-align: middle;\n",
       "    }\n",
       "\n",
       "    .dataframe tbody tr th {\n",
       "        vertical-align: top;\n",
       "    }\n",
       "\n",
       "    .dataframe thead th {\n",
       "        text-align: right;\n",
       "    }\n",
       "</style>\n",
       "<table border=\"1\" class=\"dataframe\">\n",
       "  <thead>\n",
       "    <tr style=\"text-align: right;\">\n",
       "      <th></th>\n",
       "      <th>city_id</th>\n",
       "      <th>city_name</th>\n",
       "      <th>state_id</th>\n",
       "      <th>state_name</th>\n",
       "    </tr>\n",
       "  </thead>\n",
       "  <tbody>\n",
       "    <tr>\n",
       "      <td>0</td>\n",
       "      <td>1</td>\n",
       "      <td>Rockford</td>\n",
       "      <td>OH</td>\n",
       "      <td>Ohio</td>\n",
       "    </tr>\n",
       "    <tr>\n",
       "      <td>1</td>\n",
       "      <td>2</td>\n",
       "      <td>Sedgewickville</td>\n",
       "      <td>MO</td>\n",
       "      <td>Missouri</td>\n",
       "    </tr>\n",
       "    <tr>\n",
       "      <td>2</td>\n",
       "      <td>3</td>\n",
       "      <td>Whitehouse</td>\n",
       "      <td>OH</td>\n",
       "      <td>Ohio</td>\n",
       "    </tr>\n",
       "  </tbody>\n",
       "</table>\n",
       "</div>"
      ],
      "text/plain": [
       "   city_id       city_name state_id state_name\n",
       "0        1        Rockford       OH       Ohio\n",
       "1        2  Sedgewickville       MO   Missouri\n",
       "2        3      Whitehouse       OH       Ohio"
      ]
     },
     "execution_count": 50,
     "metadata": {},
     "output_type": "execute_result"
    }
   ],
   "source": [
    "# Test location write\n",
    "locs = pd.read_sql('SELECT * FROM location LIMIT 3', con)\n",
    "locs.head()"
   ]
  },
  {
   "cell_type": "code",
   "execution_count": 51,
   "metadata": {},
   "outputs": [
    {
     "data": {
      "text/html": [
       "<div>\n",
       "<style scoped>\n",
       "    .dataframe tbody tr th:only-of-type {\n",
       "        vertical-align: middle;\n",
       "    }\n",
       "\n",
       "    .dataframe tbody tr th {\n",
       "        vertical-align: top;\n",
       "    }\n",
       "\n",
       "    .dataframe thead th {\n",
       "        text-align: right;\n",
       "    }\n",
       "</style>\n",
       "<table border=\"1\" class=\"dataframe\">\n",
       "  <thead>\n",
       "    <tr style=\"text-align: right;\">\n",
       "      <th></th>\n",
       "      <th>employer_id</th>\n",
       "      <th>city_id</th>\n",
       "      <th>contract_id</th>\n",
       "      <th>start_date</th>\n",
       "      <th>end_date</th>\n",
       "      <th>renewed_flag</th>\n",
       "      <th>job_slots</th>\n",
       "      <th>total_contract_value</th>\n",
       "      <th>applications</th>\n",
       "      <th>apply_start_clicks</th>\n",
       "      <th>click_marketplace_value</th>\n",
       "      <th>job_listings</th>\n",
       "    </tr>\n",
       "  </thead>\n",
       "  <tbody>\n",
       "    <tr>\n",
       "      <td>0</td>\n",
       "      <td>4277920</td>\n",
       "      <td>9767</td>\n",
       "      <td>2423796</td>\n",
       "      <td>2017-10-30 00:00:00</td>\n",
       "      <td>2017-11-30 00:00:00</td>\n",
       "      <td>1</td>\n",
       "      <td>15</td>\n",
       "      <td>995</td>\n",
       "      <td>215</td>\n",
       "      <td>255</td>\n",
       "      <td>15484.40</td>\n",
       "      <td>25</td>\n",
       "    </tr>\n",
       "    <tr>\n",
       "      <td>1</td>\n",
       "      <td>2372987</td>\n",
       "      <td>8585</td>\n",
       "      <td>2074128</td>\n",
       "      <td>2017-06-29 00:00:00</td>\n",
       "      <td>2017-07-29 00:00:00</td>\n",
       "      <td>0</td>\n",
       "      <td>50</td>\n",
       "      <td>1495</td>\n",
       "      <td>55</td>\n",
       "      <td>70</td>\n",
       "      <td>1719.30</td>\n",
       "      <td>50</td>\n",
       "    </tr>\n",
       "    <tr>\n",
       "      <td>2</td>\n",
       "      <td>1142693</td>\n",
       "      <td>6665</td>\n",
       "      <td>1924740</td>\n",
       "      <td>2017-05-02 00:00:00</td>\n",
       "      <td>2017-06-02 00:00:00</td>\n",
       "      <td>0</td>\n",
       "      <td>15</td>\n",
       "      <td>495</td>\n",
       "      <td>45</td>\n",
       "      <td>95</td>\n",
       "      <td>1195.75</td>\n",
       "      <td>20</td>\n",
       "    </tr>\n",
       "  </tbody>\n",
       "</table>\n",
       "</div>"
      ],
      "text/plain": [
       "   employer_id  city_id  contract_id           start_date  \\\n",
       "0      4277920     9767      2423796  2017-10-30 00:00:00   \n",
       "1      2372987     8585      2074128  2017-06-29 00:00:00   \n",
       "2      1142693     6665      1924740  2017-05-02 00:00:00   \n",
       "\n",
       "              end_date  renewed_flag  job_slots  total_contract_value  \\\n",
       "0  2017-11-30 00:00:00             1         15                   995   \n",
       "1  2017-07-29 00:00:00             0         50                  1495   \n",
       "2  2017-06-02 00:00:00             0         15                   495   \n",
       "\n",
       "   applications  apply_start_clicks  click_marketplace_value  job_listings  \n",
       "0           215                 255                 15484.40            25  \n",
       "1            55                  70                  1719.30            50  \n",
       "2            45                  95                  1195.75            20  "
      ]
     },
     "execution_count": 51,
     "metadata": {},
     "output_type": "execute_result"
    }
   ],
   "source": [
    "# Test slot performance write\n",
    "sp = pd.read_sql('SELECT * FROM slot_performance LIMIT 3', con)\n",
    "sp.head()"
   ]
  },
  {
   "cell_type": "code",
   "execution_count": 52,
   "metadata": {},
   "outputs": [],
   "source": [
    "del locs\n",
    "del sp"
   ]
  },
  {
   "cell_type": "markdown",
   "metadata": {},
   "source": [
    "## PART A: Write SQL queries to answer the following questions"
   ]
  },
  {
   "cell_type": "markdown",
   "metadata": {},
   "source": [
    "Total Contract Value is defined as the total amount that customers committed to spend. Write a SQL query that returns the Total Contract Value ('total_contract_value' field) for each state (name) by month (using 'start_date') in the provided datasets."
   ]
  },
  {
   "cell_type": "code",
   "execution_count": 53,
   "metadata": {},
   "outputs": [
    {
     "data": {
      "text/html": [
       "<div>\n",
       "<style scoped>\n",
       "    .dataframe tbody tr th:only-of-type {\n",
       "        vertical-align: middle;\n",
       "    }\n",
       "\n",
       "    .dataframe tbody tr th {\n",
       "        vertical-align: top;\n",
       "    }\n",
       "\n",
       "    .dataframe thead th {\n",
       "        text-align: right;\n",
       "    }\n",
       "</style>\n",
       "<table border=\"1\" class=\"dataframe\">\n",
       "  <thead>\n",
       "    <tr style=\"text-align: right;\">\n",
       "      <th></th>\n",
       "      <th>city_name</th>\n",
       "      <th>year_month</th>\n",
       "      <th>total_contract_value</th>\n",
       "    </tr>\n",
       "  </thead>\n",
       "  <tbody>\n",
       "    <tr>\n",
       "      <td>0</td>\n",
       "      <td>Abbott</td>\n",
       "      <td>2016-08</td>\n",
       "      <td>495</td>\n",
       "    </tr>\n",
       "    <tr>\n",
       "      <td>1</td>\n",
       "      <td>Abbott</td>\n",
       "      <td>2017-03</td>\n",
       "      <td>1245</td>\n",
       "    </tr>\n",
       "    <tr>\n",
       "      <td>2</td>\n",
       "      <td>Abbott</td>\n",
       "      <td>2017-07</td>\n",
       "      <td>1495</td>\n",
       "    </tr>\n",
       "    <tr>\n",
       "      <td>3</td>\n",
       "      <td>Aberdeen</td>\n",
       "      <td>2016-07</td>\n",
       "      <td>495</td>\n",
       "    </tr>\n",
       "    <tr>\n",
       "      <td>4</td>\n",
       "      <td>Aberdeen</td>\n",
       "      <td>2016-10</td>\n",
       "      <td>1495</td>\n",
       "    </tr>\n",
       "    <tr>\n",
       "      <td>...</td>\n",
       "      <td>...</td>\n",
       "      <td>...</td>\n",
       "      <td>...</td>\n",
       "    </tr>\n",
       "    <tr>\n",
       "      <td>33641</td>\n",
       "      <td>Zuehl</td>\n",
       "      <td>2017-12</td>\n",
       "      <td>995</td>\n",
       "    </tr>\n",
       "    <tr>\n",
       "      <td>33642</td>\n",
       "      <td>Zwingle</td>\n",
       "      <td>2016-06</td>\n",
       "      <td>1245</td>\n",
       "    </tr>\n",
       "    <tr>\n",
       "      <td>33643</td>\n",
       "      <td>Zwingle</td>\n",
       "      <td>2017-03</td>\n",
       "      <td>1245</td>\n",
       "    </tr>\n",
       "    <tr>\n",
       "      <td>33644</td>\n",
       "      <td>Zwingle</td>\n",
       "      <td>2017-06</td>\n",
       "      <td>1745</td>\n",
       "    </tr>\n",
       "    <tr>\n",
       "      <td>33645</td>\n",
       "      <td>Zwingle</td>\n",
       "      <td>2018-02</td>\n",
       "      <td>995</td>\n",
       "    </tr>\n",
       "  </tbody>\n",
       "</table>\n",
       "<p>33646 rows × 3 columns</p>\n",
       "</div>"
      ],
      "text/plain": [
       "      city_name year_month  total_contract_value\n",
       "0        Abbott    2016-08                   495\n",
       "1        Abbott    2017-03                  1245\n",
       "2        Abbott    2017-07                  1495\n",
       "3      Aberdeen    2016-07                   495\n",
       "4      Aberdeen    2016-10                  1495\n",
       "...         ...        ...                   ...\n",
       "33641     Zuehl    2017-12                   995\n",
       "33642   Zwingle    2016-06                  1245\n",
       "33643   Zwingle    2017-03                  1245\n",
       "33644   Zwingle    2017-06                  1745\n",
       "33645   Zwingle    2018-02                   995\n",
       "\n",
       "[33646 rows x 3 columns]"
      ]
     },
     "execution_count": 53,
     "metadata": {},
     "output_type": "execute_result"
    }
   ],
   "source": [
    "q = '''\n",
    "SELECT\n",
    "    l.city_name,\n",
    "    strftime('%Y-%m', p.start_date) AS year_month,\n",
    "    SUM(p.total_contract_value) AS total_contract_value\n",
    "FROM\n",
    "    slot_performance AS p\n",
    "JOIN\n",
    "    location AS l\n",
    "ON\n",
    "    l.city_id = p.city_id\n",
    "GROUP BY\n",
    "    city_name,\n",
    "    year_month\n",
    "'''\n",
    "cv = pd.read_sql(q, con)\n",
    "cv"
   ]
  },
  {
   "cell_type": "markdown",
   "metadata": {},
   "source": [
    "For all employers who purchased >1 product with Glassdoor, write a SQL query to return the 'job_slots' and 'click_marketplace_value' values for the second transaction by employer."
   ]
  },
  {
   "cell_type": "code",
   "execution_count": 54,
   "metadata": {},
   "outputs": [
    {
     "data": {
      "text/html": [
       "<div>\n",
       "<style scoped>\n",
       "    .dataframe tbody tr th:only-of-type {\n",
       "        vertical-align: middle;\n",
       "    }\n",
       "\n",
       "    .dataframe tbody tr th {\n",
       "        vertical-align: top;\n",
       "    }\n",
       "\n",
       "    .dataframe thead th {\n",
       "        text-align: right;\n",
       "    }\n",
       "</style>\n",
       "<table border=\"1\" class=\"dataframe\">\n",
       "  <thead>\n",
       "    <tr style=\"text-align: right;\">\n",
       "      <th></th>\n",
       "      <th>employer_id</th>\n",
       "      <th>job_slots</th>\n",
       "      <th>click_marketplace_value</th>\n",
       "    </tr>\n",
       "  </thead>\n",
       "  <tbody>\n",
       "    <tr>\n",
       "      <td>0</td>\n",
       "      <td>95253</td>\n",
       "      <td>15</td>\n",
       "      <td>3420.00</td>\n",
       "    </tr>\n",
       "    <tr>\n",
       "      <td>1</td>\n",
       "      <td>231360</td>\n",
       "      <td>15</td>\n",
       "      <td>0.00</td>\n",
       "    </tr>\n",
       "    <tr>\n",
       "      <td>2</td>\n",
       "      <td>266960</td>\n",
       "      <td>15</td>\n",
       "      <td>2920.70</td>\n",
       "    </tr>\n",
       "    <tr>\n",
       "      <td>3</td>\n",
       "      <td>268747</td>\n",
       "      <td>15</td>\n",
       "      <td>750.30</td>\n",
       "    </tr>\n",
       "    <tr>\n",
       "      <td>4</td>\n",
       "      <td>279307</td>\n",
       "      <td>15</td>\n",
       "      <td>0.00</td>\n",
       "    </tr>\n",
       "    <tr>\n",
       "      <td>...</td>\n",
       "      <td>...</td>\n",
       "      <td>...</td>\n",
       "      <td>...</td>\n",
       "    </tr>\n",
       "    <tr>\n",
       "      <td>7034</td>\n",
       "      <td>7216640</td>\n",
       "      <td>15</td>\n",
       "      <td>3.80</td>\n",
       "    </tr>\n",
       "    <tr>\n",
       "      <td>7035</td>\n",
       "      <td>7217520</td>\n",
       "      <td>15</td>\n",
       "      <td>0.00</td>\n",
       "    </tr>\n",
       "    <tr>\n",
       "      <td>7036</td>\n",
       "      <td>7218853</td>\n",
       "      <td>50</td>\n",
       "      <td>28.50</td>\n",
       "    </tr>\n",
       "    <tr>\n",
       "      <td>7037</td>\n",
       "      <td>7318453</td>\n",
       "      <td>50</td>\n",
       "      <td>7380.30</td>\n",
       "    </tr>\n",
       "    <tr>\n",
       "      <td>7038</td>\n",
       "      <td>7364667</td>\n",
       "      <td>15</td>\n",
       "      <td>2166.35</td>\n",
       "    </tr>\n",
       "  </tbody>\n",
       "</table>\n",
       "<p>7039 rows × 3 columns</p>\n",
       "</div>"
      ],
      "text/plain": [
       "      employer_id  job_slots  click_marketplace_value\n",
       "0           95253         15                  3420.00\n",
       "1          231360         15                     0.00\n",
       "2          266960         15                  2920.70\n",
       "3          268747         15                   750.30\n",
       "4          279307         15                     0.00\n",
       "...           ...        ...                      ...\n",
       "7034      7216640         15                     3.80\n",
       "7035      7217520         15                     0.00\n",
       "7036      7218853         50                    28.50\n",
       "7037      7318453         50                  7380.30\n",
       "7038      7364667         15                  2166.35\n",
       "\n",
       "[7039 rows x 3 columns]"
      ]
     },
     "execution_count": 54,
     "metadata": {},
     "output_type": "execute_result"
    }
   ],
   "source": [
    "q = '''\n",
    "WITH transactions AS (\n",
    "    SELECT\n",
    "        employer_id,\n",
    "        start_date,\n",
    "        job_slots,\n",
    "        click_marketplace_value,\n",
    "        ROW_NUMBER() OVER (\n",
    "            PARTITION BY employer_id\n",
    "            ORDER BY start_date\n",
    "        ) AS transaction_num\n",
    "    FROM\n",
    "        slot_performance\n",
    ")\n",
    "SELECT\n",
    "    employer_id,\n",
    "    job_slots,\n",
    "    click_marketplace_value\n",
    "FROM\n",
    "    transactions\n",
    "WHERE\n",
    "    transaction_num = 2\n",
    "'''\n",
    "ff = pd.read_sql(q, con)\n",
    "ff"
   ]
  },
  {
   "cell_type": "markdown",
   "metadata": {},
   "source": [
    "## PART B: Metric Design"
   ]
  },
  {
   "cell_type": "markdown",
   "metadata": {},
   "source": [
    "What metrics would you propose to measure the quality of services Glassdoor provided to our clients? "
   ]
  },
  {
   "cell_type": "markdown",
   "metadata": {},
   "source": [
    "Potential Metrics\n",
    " - Cost per Application = `total_contract_value` / `applications`\n",
    " - Cost per Click = `total_contract_value` / `apply_start_clicks`\n",
    " - Completion Rate = `applications` / `application_clicks`\n",
    " - Clicks per Dollar = `apply_start_clicks` / `total_contract_value`\n",
    " \n",
    "I would suggest using **Clicks per Dollar** as the primary metric on how much value glassdoor is providing an employer with the job slot product.  While the employer is ultimately intersted in the cost per application metric, the completion rate metric will depend on the ease for candidates to apply to a role.  If the completion rate is too low, perhaps a simplified application process may help.  Using Cost per Click avoids this entanglement and shows the value that the customer derives directly from the job slots product. However, cost per click is undefined when apply start clicks is zero.  Therefore, the clicks per dollar metric seems to make the most sense."
   ]
  },
  {
   "cell_type": "markdown",
   "metadata": {},
   "source": [
    "How does performance vary in terms of:\n",
    "\n",
    "- job_slots?\n",
    "- total_contract_value?\n",
    "- click_marketplace_value?"
   ]
  },
  {
   "cell_type": "code",
   "execution_count": 55,
   "metadata": {},
   "outputs": [],
   "source": [
    "q = '''SELECT * FROM slot_performance'''\n",
    "sp = pd.read_sql(q, con)\n",
    "sp['cpc'] = sp['total_contract_value'] / sp['apply_start_clicks']\n",
    "sp['cpd'] =  sp['apply_start_clicks'] / sp['total_contract_value']"
   ]
  },
  {
   "cell_type": "code",
   "execution_count": 64,
   "metadata": {},
   "outputs": [
    {
     "data": {
      "text/plain": [
       "<matplotlib.axes._subplots.AxesSubplot at 0x7f6c410f9d50>"
      ]
     },
     "execution_count": 64,
     "metadata": {},
     "output_type": "execute_result"
    },
    {
     "data": {
      "image/png": "[encoded data removed]",
      "text/plain": [
       "<Figure size 864x576 with 1 Axes>"
      ]
     },
     "metadata": {
      "needs_background": "light"
     },
     "output_type": "display_data"
    }
   ],
   "source": [
    "sp.plot.scatter(y='cpd', x='job_slots', figsize=figsize)"
   ]
  },
  {
   "cell_type": "code",
   "execution_count": 65,
   "metadata": {},
   "outputs": [
    {
     "data": {
      "text/html": [
       "<div>\n",
       "<style scoped>\n",
       "    .dataframe tbody tr th:only-of-type {\n",
       "        vertical-align: middle;\n",
       "    }\n",
       "\n",
       "    .dataframe tbody tr th {\n",
       "        vertical-align: top;\n",
       "    }\n",
       "\n",
       "    .dataframe thead th {\n",
       "        text-align: right;\n",
       "    }\n",
       "</style>\n",
       "<table border=\"1\" class=\"dataframe\">\n",
       "  <thead>\n",
       "    <tr style=\"text-align: right;\">\n",
       "      <th></th>\n",
       "      <th>mean_cpd</th>\n",
       "    </tr>\n",
       "    <tr>\n",
       "      <th>job_slots</th>\n",
       "      <th></th>\n",
       "    </tr>\n",
       "  </thead>\n",
       "  <tbody>\n",
       "    <tr>\n",
       "      <td>15</td>\n",
       "      <td>0.086661</td>\n",
       "    </tr>\n",
       "    <tr>\n",
       "      <td>50</td>\n",
       "      <td>0.168476</td>\n",
       "    </tr>\n",
       "  </tbody>\n",
       "</table>\n",
       "</div>"
      ],
      "text/plain": [
       "           mean_cpd\n",
       "job_slots          \n",
       "15         0.086661\n",
       "50         0.168476"
      ]
     },
     "execution_count": 65,
     "metadata": {},
     "output_type": "execute_result"
    }
   ],
   "source": [
    "sp.groupby('job_slots').agg(mean_cpd = ('cpd', 'mean'))"
   ]
  },
  {
   "cell_type": "code",
   "execution_count": 66,
   "metadata": {},
   "outputs": [
    {
     "data": {
      "text/plain": [
       "<matplotlib.axes._subplots.AxesSubplot at 0x7f6c408e0350>"
      ]
     },
     "execution_count": 66,
     "metadata": {},
     "output_type": "execute_result"
    },
    {
     "data": {
      "image/png": "[encoded data removed]",
      "text/plain": [
       "<Figure size 864x576 with 1 Axes>"
      ]
     },
     "metadata": {
      "needs_background": "light"
     },
     "output_type": "display_data"
    }
   ],
   "source": [
    "sp.plot.scatter(x='total_contract_value', y='cpd', figsize=figsize)"
   ]
  },
  {
   "cell_type": "code",
   "execution_count": 68,
   "metadata": {},
   "outputs": [
    {
     "data": {
      "text/plain": [
       "<matplotlib.axes._subplots.AxesSubplot at 0x7f6c403efe10>"
      ]
     },
     "execution_count": 68,
     "metadata": {},
     "output_type": "execute_result"
    },
    {
     "data": {
      "image/png": "[encoded data removed]",
      "text/plain": [
       "<Figure size 864x576 with 1 Axes>"
      ]
     },
     "metadata": {
      "needs_background": "light"
     },
     "output_type": "display_data"
    }
   ],
   "source": [
    "sp.plot.scatter(x='click_marketplace_value', y='cpd', figsize=figsize)"
   ]
  },
  {
   "cell_type": "code",
   "execution_count": 69,
   "metadata": {},
   "outputs": [
    {
     "data": {
      "text/plain": [
       "array([[<matplotlib.axes._subplots.AxesSubplot object at 0x7f6c40a90b50>,\n",
       "        <matplotlib.axes._subplots.AxesSubplot object at 0x7f6c40c9fe50>,\n",
       "        <matplotlib.axes._subplots.AxesSubplot object at 0x7f6c40e66650>,\n",
       "        <matplotlib.axes._subplots.AxesSubplot object at 0x7f6c41193e50>],\n",
       "       [<matplotlib.axes._subplots.AxesSubplot object at 0x7f6c3adbd650>,\n",
       "        <matplotlib.axes._subplots.AxesSubplot object at 0x7f6c3ad88e50>,\n",
       "        <matplotlib.axes._subplots.AxesSubplot object at 0x7f6c3ad6b690>,\n",
       "        <matplotlib.axes._subplots.AxesSubplot object at 0x7f6c3acf9e90>],\n",
       "       [<matplotlib.axes._subplots.AxesSubplot object at 0x7f6c3ac86a10>,\n",
       "        <matplotlib.axes._subplots.AxesSubplot object at 0x7f6c3ac2b3d0>,\n",
       "        <matplotlib.axes._subplots.AxesSubplot object at 0x7f6c3aa47710>,\n",
       "        <matplotlib.axes._subplots.AxesSubplot object at 0x7f6c3aa15f10>],\n",
       "       [<matplotlib.axes._subplots.AxesSubplot object at 0x7f6c3a93a750>,\n",
       "        <matplotlib.axes._subplots.AxesSubplot object at 0x7f6c3a906f50>,\n",
       "        <matplotlib.axes._subplots.AxesSubplot object at 0x7f6c3a8e9790>,\n",
       "        <matplotlib.axes._subplots.AxesSubplot object at 0x7f6c3a871f90>]],\n",
       "      dtype=object)"
      ]
     },
     "execution_count": 69,
     "metadata": {},
     "output_type": "execute_result"
    },
    {
     "data": {
      "image/png": "[encoded data removed]",
      "text/plain": [
       "<Figure size 1008x864 with 16 Axes>"
      ]
     },
     "metadata": {
      "needs_background": "light"
     },
     "output_type": "display_data"
    }
   ],
   "source": [
    "pd.plotting.scatter_matrix(\n",
    "    sp[['cpd', 'job_slots', 'total_contract_value', 'click_marketplace_value']],\n",
    "    alpha=0.2,\n",
    "    figsize=(14,12)\n",
    ")"
   ]
  },
  {
   "cell_type": "code",
   "execution_count": 29,
   "metadata": {},
   "outputs": [
    {
     "data": {
      "text/html": [
       "<div>\n",
       "<style scoped>\n",
       "    .dataframe tbody tr th:only-of-type {\n",
       "        vertical-align: middle;\n",
       "    }\n",
       "\n",
       "    .dataframe tbody tr th {\n",
       "        vertical-align: top;\n",
       "    }\n",
       "\n",
       "    .dataframe thead th {\n",
       "        text-align: right;\n",
       "    }\n",
       "</style>\n",
       "<table border=\"1\" class=\"dataframe\">\n",
       "  <thead>\n",
       "    <tr style=\"text-align: right;\">\n",
       "      <th></th>\n",
       "      <th>employer_id</th>\n",
       "      <th>city_id</th>\n",
       "      <th>contract_id</th>\n",
       "      <th>start_date</th>\n",
       "      <th>end_date</th>\n",
       "      <th>renewed_flag</th>\n",
       "      <th>job_slots</th>\n",
       "      <th>total_contract_value</th>\n",
       "      <th>applications</th>\n",
       "      <th>apply_start_clicks</th>\n",
       "      <th>click_marketplace_value</th>\n",
       "      <th>job_listings</th>\n",
       "      <th>cpc</th>\n",
       "    </tr>\n",
       "  </thead>\n",
       "  <tbody>\n",
       "    <tr>\n",
       "      <td>0</td>\n",
       "      <td>4277920</td>\n",
       "      <td>9767</td>\n",
       "      <td>2423796</td>\n",
       "      <td>2017-10-30 00:00:00</td>\n",
       "      <td>2017-11-30 00:00:00</td>\n",
       "      <td>1</td>\n",
       "      <td>15</td>\n",
       "      <td>995</td>\n",
       "      <td>215</td>\n",
       "      <td>255</td>\n",
       "      <td>15484.40</td>\n",
       "      <td>25</td>\n",
       "      <td>3.901961</td>\n",
       "    </tr>\n",
       "    <tr>\n",
       "      <td>1</td>\n",
       "      <td>2372987</td>\n",
       "      <td>8585</td>\n",
       "      <td>2074128</td>\n",
       "      <td>2017-06-29 00:00:00</td>\n",
       "      <td>2017-07-29 00:00:00</td>\n",
       "      <td>0</td>\n",
       "      <td>50</td>\n",
       "      <td>1495</td>\n",
       "      <td>55</td>\n",
       "      <td>70</td>\n",
       "      <td>1719.30</td>\n",
       "      <td>50</td>\n",
       "      <td>21.357143</td>\n",
       "    </tr>\n",
       "    <tr>\n",
       "      <td>2</td>\n",
       "      <td>1142693</td>\n",
       "      <td>6665</td>\n",
       "      <td>1924740</td>\n",
       "      <td>2017-05-02 00:00:00</td>\n",
       "      <td>2017-06-02 00:00:00</td>\n",
       "      <td>0</td>\n",
       "      <td>15</td>\n",
       "      <td>495</td>\n",
       "      <td>45</td>\n",
       "      <td>95</td>\n",
       "      <td>1195.75</td>\n",
       "      <td>20</td>\n",
       "      <td>5.210526</td>\n",
       "    </tr>\n",
       "    <tr>\n",
       "      <td>3</td>\n",
       "      <td>1353893</td>\n",
       "      <td>5165</td>\n",
       "      <td>1942512</td>\n",
       "      <td>2017-05-09 00:00:00</td>\n",
       "      <td>2017-06-06 00:00:00</td>\n",
       "      <td>0</td>\n",
       "      <td>15</td>\n",
       "      <td>995</td>\n",
       "      <td>155</td>\n",
       "      <td>175</td>\n",
       "      <td>1197.35</td>\n",
       "      <td>20</td>\n",
       "      <td>5.685714</td>\n",
       "    </tr>\n",
       "    <tr>\n",
       "      <td>4</td>\n",
       "      <td>922427</td>\n",
       "      <td>3882</td>\n",
       "      <td>1380984</td>\n",
       "      <td>2016-09-19 00:00:00</td>\n",
       "      <td>2016-10-20 00:00:00</td>\n",
       "      <td>1</td>\n",
       "      <td>15</td>\n",
       "      <td>745</td>\n",
       "      <td>150</td>\n",
       "      <td>185</td>\n",
       "      <td>8889.70</td>\n",
       "      <td>20</td>\n",
       "      <td>4.027027</td>\n",
       "    </tr>\n",
       "    <tr>\n",
       "      <td>...</td>\n",
       "      <td>...</td>\n",
       "      <td>...</td>\n",
       "      <td>...</td>\n",
       "      <td>...</td>\n",
       "      <td>...</td>\n",
       "      <td>...</td>\n",
       "      <td>...</td>\n",
       "      <td>...</td>\n",
       "      <td>...</td>\n",
       "      <td>...</td>\n",
       "      <td>...</td>\n",
       "      <td>...</td>\n",
       "      <td>...</td>\n",
       "    </tr>\n",
       "    <tr>\n",
       "      <td>37752</td>\n",
       "      <td>5234187</td>\n",
       "      <td>123</td>\n",
       "      <td>2601276</td>\n",
       "      <td>2017-12-24 00:00:00</td>\n",
       "      <td>2018-01-11 00:00:00</td>\n",
       "      <td>0</td>\n",
       "      <td>15</td>\n",
       "      <td>1245</td>\n",
       "      <td>5</td>\n",
       "      <td>45</td>\n",
       "      <td>1846.80</td>\n",
       "      <td>0</td>\n",
       "      <td>27.666667</td>\n",
       "    </tr>\n",
       "    <tr>\n",
       "      <td>37753</td>\n",
       "      <td>6707680</td>\n",
       "      <td>128</td>\n",
       "      <td>2777388</td>\n",
       "      <td>2018-02-20 00:00:00</td>\n",
       "      <td>2018-03-05 00:00:00</td>\n",
       "      <td>0</td>\n",
       "      <td>15</td>\n",
       "      <td>1245</td>\n",
       "      <td>80</td>\n",
       "      <td>140</td>\n",
       "      <td>3108.40</td>\n",
       "      <td>45</td>\n",
       "      <td>8.892857</td>\n",
       "    </tr>\n",
       "    <tr>\n",
       "      <td>37754</td>\n",
       "      <td>1799067</td>\n",
       "      <td>7344</td>\n",
       "      <td>1128324</td>\n",
       "      <td>2016-05-28 00:00:00</td>\n",
       "      <td>2016-06-01 00:00:00</td>\n",
       "      <td>0</td>\n",
       "      <td>15</td>\n",
       "      <td>1495</td>\n",
       "      <td>35</td>\n",
       "      <td>45</td>\n",
       "      <td>949.05</td>\n",
       "      <td>0</td>\n",
       "      <td>33.222222</td>\n",
       "    </tr>\n",
       "    <tr>\n",
       "      <td>37755</td>\n",
       "      <td>2391600</td>\n",
       "      <td>3945</td>\n",
       "      <td>2729376</td>\n",
       "      <td>2018-02-04 00:00:00</td>\n",
       "      <td>2018-03-03 00:00:00</td>\n",
       "      <td>1</td>\n",
       "      <td>15</td>\n",
       "      <td>1245</td>\n",
       "      <td>5</td>\n",
       "      <td>5</td>\n",
       "      <td>5.00</td>\n",
       "      <td>0</td>\n",
       "      <td>249.000000</td>\n",
       "    </tr>\n",
       "    <tr>\n",
       "      <td>37756</td>\n",
       "      <td>6142960</td>\n",
       "      <td>4629</td>\n",
       "      <td>2817120</td>\n",
       "      <td>2018-03-02 00:00:00</td>\n",
       "      <td>2018-04-01 00:00:00</td>\n",
       "      <td>0</td>\n",
       "      <td>15</td>\n",
       "      <td>995</td>\n",
       "      <td>40</td>\n",
       "      <td>140</td>\n",
       "      <td>2434.60</td>\n",
       "      <td>5</td>\n",
       "      <td>7.107143</td>\n",
       "    </tr>\n",
       "  </tbody>\n",
       "</table>\n",
       "<p>37757 rows × 13 columns</p>\n",
       "</div>"
      ],
      "text/plain": [
       "       employer_id  city_id  contract_id           start_date  \\\n",
       "0          4277920     9767      2423796  2017-10-30 00:00:00   \n",
       "1          2372987     8585      2074128  2017-06-29 00:00:00   \n",
       "2          1142693     6665      1924740  2017-05-02 00:00:00   \n",
       "3          1353893     5165      1942512  2017-05-09 00:00:00   \n",
       "4           922427     3882      1380984  2016-09-19 00:00:00   \n",
       "...            ...      ...          ...                  ...   \n",
       "37752      5234187      123      2601276  2017-12-24 00:00:00   \n",
       "37753      6707680      128      2777388  2018-02-20 00:00:00   \n",
       "37754      1799067     7344      1128324  2016-05-28 00:00:00   \n",
       "37755      2391600     3945      2729376  2018-02-04 00:00:00   \n",
       "37756      6142960     4629      2817120  2018-03-02 00:00:00   \n",
       "\n",
       "                  end_date  renewed_flag  job_slots  total_contract_value  \\\n",
       "0      2017-11-30 00:00:00             1         15                   995   \n",
       "1      2017-07-29 00:00:00             0         50                  1495   \n",
       "2      2017-06-02 00:00:00             0         15                   495   \n",
       "3      2017-06-06 00:00:00             0         15                   995   \n",
       "4      2016-10-20 00:00:00             1         15                   745   \n",
       "...                    ...           ...        ...                   ...   \n",
       "37752  2018-01-11 00:00:00             0         15                  1245   \n",
       "37753  2018-03-05 00:00:00             0         15                  1245   \n",
       "37754  2016-06-01 00:00:00             0         15                  1495   \n",
       "37755  2018-03-03 00:00:00             1         15                  1245   \n",
       "37756  2018-04-01 00:00:00             0         15                   995   \n",
       "\n",
       "       applications  apply_start_clicks  click_marketplace_value  \\\n",
       "0               215                 255                 15484.40   \n",
       "1                55                  70                  1719.30   \n",
       "2                45                  95                  1195.75   \n",
       "3               155                 175                  1197.35   \n",
       "4               150                 185                  8889.70   \n",
       "...             ...                 ...                      ...   \n",
       "37752             5                  45                  1846.80   \n",
       "37753            80                 140                  3108.40   \n",
       "37754            35                  45                   949.05   \n",
       "37755             5                   5                     5.00   \n",
       "37756            40                 140                  2434.60   \n",
       "\n",
       "       job_listings         cpc  \n",
       "0                25    3.901961  \n",
       "1                50   21.357143  \n",
       "2                20    5.210526  \n",
       "3                20    5.685714  \n",
       "4                20    4.027027  \n",
       "...             ...         ...  \n",
       "37752             0   27.666667  \n",
       "37753            45    8.892857  \n",
       "37754             0   33.222222  \n",
       "37755             0  249.000000  \n",
       "37756             5    7.107143  \n",
       "\n",
       "[37757 rows x 13 columns]"
      ]
     },
     "execution_count": 29,
     "metadata": {},
     "output_type": "execute_result"
    }
   ],
   "source": [
    "sp"
   ]
  },
  {
   "cell_type": "markdown",
   "metadata": {},
   "source": [
    "## PART C: Retention Modeling and Analysis"
   ]
  },
  {
   "cell_type": "markdown",
   "metadata": {},
   "source": [
    "## Close Connection"
   ]
  },
  {
   "cell_type": "code",
   "execution_count": null,
   "metadata": {},
   "outputs": [],
   "source": [
    "con.close()"
   ]
  },
  {
   "cell_type": "code",
   "execution_count": null,
   "metadata": {},
   "outputs": [],
   "source": []
  }
 ],
 "metadata": {
  "kernelspec": {
   "display_name": "Python 3",
   "language": "python",
   "name": "python3"
  },
  "language_info": {
   "codemirror_mode": {
    "name": "ipython",
    "version": 3
   },
   "file_extension": ".py",
   "mimetype": "text/x-python",
   "name": "python",
   "nbconvert_exporter": "python",
   "pygments_lexer": "ipython3",
   "version": "3.7.4"
  }
 },
 "nbformat": 4,
 "nbformat_minor": 5
}
